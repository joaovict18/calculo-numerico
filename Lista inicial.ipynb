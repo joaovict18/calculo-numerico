{
 "cells": [
  {
   "cell_type": "code",
   "execution_count": 4,
   "id": "213df56f",
   "metadata": {},
   "outputs": [
    {
     "name": "stdout",
     "output_type": "stream",
     "text": [
      "O valor da integral é:  1.4626546097152628\n"
     ]
    }
   ],
   "source": [
    "# 1.\n",
    "\n",
    "# a) \n",
    "def f(x):\n",
    "    import numpy as np\n",
    "    valor = np.exp(x**2)\n",
    "    return valor\n",
    "\n",
    "a = 0\n",
    "b = 1\n",
    "n = 300000\n",
    "deltax = (b - a) / n\n",
    "integral = 0\n",
    "\n",
    "for i in range(1, n + 1):\n",
    "    x = a + i * deltax\n",
    "    integral = integral + f(x) * deltax\n",
    "\n",
    "print(\"O valor da integral é: \", integral)\n",
    "\n",
    "#valor_exato = ((b**3) / 3) - ((a**3) / 3)\n",
    "#erro_percentual = (abs(valor_exato - integral) / integral) * 100\n",
    "\n",
    "#print(\"Erro percentual: \", erro_percentual)'''"
   ]
  },
  {
   "cell_type": "code",
   "execution_count": 15,
   "id": "98a63691",
   "metadata": {},
   "outputs": [
    {
     "name": "stdout",
     "output_type": "stream",
     "text": [
      "O valor da integral é:  1.7182846922636918\n"
     ]
    }
   ],
   "source": [
    "# b)\n",
    "\n",
    "def f(x):\n",
    "    import numpy as np\n",
    "    valor = np.exp(x)\n",
    "    return valor\n",
    "\n",
    "a = 0\n",
    "b = 1\n",
    "n = 300000\n",
    "deltax = (b - a) / n\n",
    "integral = 0\n",
    "\n",
    "for i in range(1, n + 1):\n",
    "    x = a + i * deltax\n",
    "    integral = integral + f(x) * deltax\n",
    "\n",
    "print(\"O valor da integral é: \", integral)\n",
    "\n",
    "valor_exato = ((b**3) / 3) - ((a**3) / 3)"
   ]
  },
  {
   "cell_type": "code",
   "execution_count": 7,
   "id": "a9f66551",
   "metadata": {},
   "outputs": [
    {
     "name": "stdout",
     "output_type": "stream",
     "text": [
      "Derivada 1ª ordem (diferença para frente): 102.01\n",
      "Derivada 1ª ordem (diferença para trás): 5.970100000000045\n",
      "Derivada 1ª ordem (diferença centrada): 53.990050000000025\n",
      "Derivada 1ª ordem (diferença centrada - 5 pontos): 62.3266666666667\n",
      "Derivada 2ª ordem (diferença centrada): 9603.989999999994\n",
      "Derivada 2ª ordem (diferença centrada - 5 pontos): 12037.326666666659\n",
      "Derivada 3ª ordem (diferença centrada - 4 pontos): -500197.00000000035\n"
     ]
    }
   ],
   "source": [
    "# 2.\n",
    "\n",
    "def f(x):\n",
    "    if x > 1:\n",
    "        return x**2\n",
    "    else:\n",
    "        return x**3+3*x-4\n",
    "\n",
    "h = 10e-3 #float(input(\"Digite o valor do acréscimo (h): \"))\n",
    "x = 1 #float(input(\"Digite o ponto para o cálculo da derivada (x): \"))\n",
    "\n",
    "# Derivadas de primeira ordem\n",
    "derivada1_ordem1 = (f(x + h) - f(x)) / h                     # Diferença para frente\n",
    "derivada2_ordem1 = (f(x) - f(x - h)) / h                     # Diferença para trás\n",
    "derivada3_ordem1 = (f(x + h) - f(x - h)) / (2 * h)           # Diferença centrada (2 pontos)\n",
    "derivada4_ordem1 = (f(x - 2*h) - 8*f(x - h) + 8*f(x + h) - f(x + 2*h)) / (12 * h)  # 5 pontos\n",
    "\n",
    "# Derivadas de segunda ordem\n",
    "derivada1_ordem2 = (f(x + h) - 2*f(x) + f(x - h)) / (h**2)   # Diferença centrada\n",
    "derivada2_ordem2 = -(f(x + 2*h) - 16*f(x + h) + 30*f(x) - 16*f(x - h) + f(x - 2*h)) / (12 * h**2)  # 5 pontos\n",
    "\n",
    "# Derivada de terceira ordem (centrada com 4 pontos)\n",
    "derivada1_ordem3 = (f(x + 2*h) - 2*f(x + h) + 2*f(x - h) - f(x - 2*h)) / (2 * h**3)\n",
    "\n",
    "# Impressão dos resultados\n",
    "print(\"Derivada 1ª ordem (diferença para frente):\", derivada1_ordem1)\n",
    "print(\"Derivada 1ª ordem (diferença para trás):\", derivada2_ordem1)\n",
    "print(\"Derivada 1ª ordem (diferença centrada):\", derivada3_ordem1)\n",
    "print(\"Derivada 1ª ordem (diferença centrada - 5 pontos):\", derivada4_ordem1)\n",
    "print(\"Derivada 2ª ordem (diferença centrada):\", derivada1_ordem2)\n",
    "print(\"Derivada 2ª ordem (diferença centrada - 5 pontos):\", derivada2_ordem2)\n",
    "print(\"Derivada 3ª ordem (diferença centrada - 4 pontos):\", derivada1_ordem3)\n"
   ]
  },
  {
   "cell_type": "code",
   "execution_count": 14,
   "id": "dfed36f5",
   "metadata": {},
   "outputs": [
    {
     "name": "stdout",
     "output_type": "stream",
     "text": [
      "Derivada progressiva (0):  -0.015\n",
      "Derivada centrada (1): -0.014\n",
      "Derivada centrada (2): -0.0115\n",
      "Derivada centrada (3): -0.008499999999999999\n",
      "Derivada centrada (4): -0.005000000000000001\n",
      "Derivada centrada (5): 0.0\n",
      "Derivada centrada (6): 0.005000000000000001\n",
      "Derivada centrada (7): 0.008499999999999999\n",
      "Derivada centrada (8): 0.0115\n",
      "Derivada centrada (9): 0.014\n",
      "Derivada regressiva (10): 0.015\n",
      "A inclinação é máxima no ponto 0, com a deformação sendo de: -0.015\n"
     ]
    },
    {
     "data": {
      "image/png": "[encoded data removed]",
      "text/plain": [
       "<Figure size 640x480 with 1 Axes>"
      ]
     },
     "metadata": {},
     "output_type": "display_data"
    }
   ],
   "source": [
    "# 3.\n",
    "\n",
    "import numpy as np\n",
    "import matplotlib.pyplot as plt\n",
    "\n",
    "x = np.array([0, 1, 2, 3, 4, 5, 6, 7, 8, 9, 10])\n",
    "y = np.array([0, -0.015, -0.028, -0.038, -0.045, -0.048, -0.045, -0.038, -0.028, -0.015, 0])\n",
    "h = 1\n",
    "\n",
    "y_derivada = []\n",
    "\n",
    "dy_dx_progressiva = (y[1] - y[0]) / h\n",
    "y_derivada.append(dy_dx_progressiva)\n",
    "print('Derivada progressiva (0): ', dy_dx_progressiva)\n",
    "\n",
    "for i in range(1, len(y) - 1):\n",
    "    dy_dx_centrada = (y[i +1 ] - y[i - 1]) / (2 * h)\n",
    "    y_derivada.append(dy_dx_centrada)\n",
    "    print(f'Derivada centrada ({i}): {dy_dx_centrada}')\n",
    "    \n",
    "dy_dx_regressiva = (y[-1] - y[-2]) / h\n",
    "y_derivada.append(dy_dx_regressiva)\n",
    "print(f'Derivada regressiva (10): {dy_dx_regressiva}')\n",
    "\n",
    "maior_inclinacao = max(y_derivada, key=abs)\n",
    "indice_maior_inclinacao = y_derivada.index(maior_inclinacao)\n",
    "indice_em_x = x[indice_maior_inclinacao]\n",
    "\n",
    "print(f'A inclinação é máxima no ponto {indice_em_x}, com a deformação sendo de: {maior_inclinacao}')\n",
    "\n",
    "plt.plot(x, y_derivada, label=\"Gráfico de deformação versus posição\", color=\"b\", marker=\"o\")\n",
    "plt.xlabel(\"Posição\")\n",
    "plt.ylabel(\"Deformação\")\n",
    "\n",
    "plt.show()\n"
   ]
  }
 ],
 "metadata": {
  "kernelspec": {
   "display_name": "Python 3 (ipykernel)",
   "language": "python",
   "name": "python3"
  },
  "language_info": {
   "codemirror_mode": {
    "name": "ipython",
    "version": 3
   },
   "file_extension": ".py",
   "mimetype": "text/x-python",
   "name": "python",
   "nbconvert_exporter": "python",
   "pygments_lexer": "ipython3",
   "version": "3.9.13"
  }
 },
 "nbformat": 4,
 "nbformat_minor": 5
}
