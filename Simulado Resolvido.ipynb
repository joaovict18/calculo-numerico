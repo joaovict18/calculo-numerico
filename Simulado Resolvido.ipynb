{
 "cells": [
  {
   "cell_type": "code",
   "execution_count": 3,
   "id": "8131a0ed",
   "metadata": {},
   "outputs": [
    {
     "name": "stdout",
     "output_type": "stream",
     "text": [
      "=== Buscando a raiz positiva (x ≈ 2) ===\n",
      "Iteração | x | f(x) | Erro\n",
      "----------------------------------\n",
      "       0 | 310.00000 | 223.63641 | 16.88663\n",
      "       1 | 326.88663 | 9.66591 | 0.80029\n",
      "       2 | 327.68692 | 0.02332 | 0.00194\n",
      "       3 | 327.68886 | 0.00000 | 0.00000\n",
      "\n",
      "Convergência alcançada!\n",
      "\n",
      "Raiz positiva encontrada: 327.688860\n"
     ]
    }
   ],
   "source": [
    "# 1.\n",
    "\n",
    "def metodo_newton(x0, tol=1e-6, max_iter=10):\n",
    "    import numpy as np\n",
    "    \"\"\"\n",
    "    Implementação do método de Newton para encontrar raízes de f(x)\n",
    "\n",
    "    Parâmetros:\n",
    "    x0: aproximação inicial\n",
    "    tol: tolerância (critério de parada)\n",
    "    max_iter: número máximo de iterações\n",
    "\n",
    "    Retorna:\n",
    "    Aproximação da raiz ou None se não convergir\n",
    "    \"\"\"\n",
    "\n",
    "    # Definindo a função e sua derivada\n",
    "    def f(x):\n",
    "        sigma = 5.67 * 10**-8\n",
    "        h = 20\n",
    "        T_infinito = 300\n",
    "        q = 100\n",
    "        \n",
    "        return sigma * x**4 - h*(x-T_infinito) - q\n",
    "\n",
    "    def df(x):\n",
    "        h = 0.01\n",
    "        derivada = (f(x + h) - f(x - h)) / (2 * h)\n",
    "        return derivada  # Derivada de f(x)\n",
    "\n",
    "    print(\"Iteração | x | f(x) | Erro\")\n",
    "    print(\"----------------------------------\")\n",
    "\n",
    "    for i in range(max_iter):\n",
    "        fx = f(x0)\n",
    "        dfx = df(x0)\n",
    "\n",
    "        # Evitar divisão por zero\n",
    "        if abs(dfx) < 1e-12:\n",
    "            print(\"\\nDerivada muito próxima de zero. Método falhou.\")\n",
    "            return None\n",
    "\n",
    "        x1 = x0 - fx / dfx\n",
    "        erro = abs(x1 - x0)\n",
    "\n",
    "        print(f\"{i:8} | {x0:.5f} | {fx:.5f} | {erro:.5f}\")\n",
    "\n",
    "        if erro < tol:\n",
    "            print(\"\\nConvergência alcançada!\")\n",
    "            return x1\n",
    "\n",
    "        x0 = x1\n",
    "\n",
    "    print(\"\\nMétodo não convergiu após\", max_iter, \"iterações.\")\n",
    "    return None\n",
    "\n",
    "\n",
    "# Encontrando ambas as raízes usando diferentes pontos iniciais\n",
    "print(\"=== Buscando a raiz positiva (x ≈ 2) ===\")\n",
    "raiz_positiva = metodo_newton(x0=310)\n",
    "if raiz_positiva is not None:\n",
    "    print(f\"\\nRaiz positiva encontrada: {raiz_positiva:.6f}\")\n",
    "    # print(f\"f({raiz_positiva:.6f}) = {raiz_positiva ** 2 + raiz_positiva - 6:.6f}\")\n",
    "\n",
    "# print(\"\\n=== Buscando a raiz negativa (x ≈ -3) ===\")\n",
    "# raiz_negativa = metodo_newton(x0=-3.5)\n",
    "# if raiz_negativa is not None:\n",
    "#     print(f\"\\nRaiz negativa encontrada: {raiz_negativa:.6f}\")\n",
    "#     print(f\"f({raiz_negativa:.6f}) = {raiz_negativa ** 2 + raiz_negativa - 6:.6f}\")\n"
   ]
  },
  {
   "cell_type": "code",
   "execution_count": 5,
   "id": "bdc14860",
   "metadata": {},
   "outputs": [
    {
     "name": "stdout",
     "output_type": "stream",
     "text": [
      "Digite o valor de x: 1\n",
      "Digite a ordem N da série de Taylor: 5\n",
      "nAproximação de e^1.0 com N = 5: 2.716667\n",
      "Valor exato usando math.exp: 2.718282\n",
      "Erro absoluto: 0.001615\n"
     ]
    }
   ],
   "source": [
    "# 2.\n",
    "import math\n",
    "\n",
    "x = float(input(\"Digite o valor de x: \"))\n",
    "N = int(input(\"Digite a ordem N da série de Taylor: \"))\n",
    "\n",
    "approx = 0\n",
    "for n in range(N + 1):\n",
    "    approx += (x ** n) / math.factorial(n)\n",
    "    \n",
    "exact = math.exp(x)\n",
    "erro_absoluto = abs(exact-approx)\n",
    "\n",
    "print(f\"nAproximação de e^{x} com N = {N}: {approx:.6f}\")\n",
    "print(f\"Valor exato usando math.exp: {exact:.6f}\")\n",
    "print(f\"Erro absoluto: {erro_absoluto:.6f}\")"
   ]
  },
  {
   "cell_type": "code",
   "execution_count": 6,
   "id": "1c50bf40",
   "metadata": {},
   "outputs": [
    {
     "name": "stdout",
     "output_type": "stream",
     "text": [
      "Solução: [2.1423891772313453, 2.8365949119373775, 0.6627669531183531, 0.9292521058453165, 3.5656853569301448]\n"
     ]
    }
   ],
   "source": [
    "# 3.\n",
    "\n",
    "def gauss_com_pivotamento(A, b):\n",
    "    n = len(A)\n",
    "\n",
    "    # Etapa de eliminação com pivotamento\n",
    "    for i in range(n):\n",
    "        # Pivotamento parcial\n",
    "        max_linha = max(range(i, n), key=lambda k: abs(A[k][i]))\n",
    "        if A[max_linha][i] == 0:\n",
    "            raise ValueError(\"Sistema sem solução ou com infinitas soluções.\")\n",
    "        A[i], A[max_linha] = A[max_linha], A[i]\n",
    "        b[i], b[max_linha] = b[max_linha], b[i]\n",
    "\n",
    "        # Eliminação\n",
    "        for k in range(i + 1, n):\n",
    "            m = A[k][i] / A[i][i]\n",
    "            for j in range(i, n):\n",
    "                A[k][j] -= m * A[i][j]\n",
    "            b[k] -= m * b[i]\n",
    "\n",
    "    # Substituição regressiva\n",
    "    x = [0] * n\n",
    "    for i in range(n - 1, -1, -1):\n",
    "        soma = sum(A[i][j] * x[j] for j in range(i + 1, n))\n",
    "        x[i] = (b[i] - soma) / A[i][i]\n",
    "\n",
    "    return x\n",
    "\n",
    "# Exemplo de sistema\n",
    "A = [\n",
    "    [10.0, 2.0, -1.0, 0.0, 1],\n",
    "    [-2.0, 8.0, 1.0, 1.0, 0.0],\n",
    "    [1.0, 1.0, 5.0, -2.0, 1],\n",
    "    [0.0, 2.0, -1.0, 10.0, 3.0],\n",
    "    [2.0, -1.0, 1.0, 1.0, 7.0]\n",
    "]\n",
    "b = [30.0, 20.0, 10.0, 25, 28]\n",
    "\n",
    "solucao = gauss_com_pivotamento(A, b)\n",
    "print(\"Solução:\", solucao)\n"
   ]
  },
  {
   "cell_type": "code",
   "execution_count": null,
   "id": "4626495d",
   "metadata": {},
   "outputs": [],
   "source": [
    "#. 4\n",
    "\n",
    "'''\n",
    "F\n",
    "F\n",
    "V\n",
    "'''"
   ]
  }
 ],
 "metadata": {
  "kernelspec": {
   "display_name": "Python 3 (ipykernel)",
   "language": "python",
   "name": "python3"
  },
  "language_info": {
   "codemirror_mode": {
    "name": "ipython",
    "version": 3
   },
   "file_extension": ".py",
   "mimetype": "text/x-python",
   "name": "python",
   "nbconvert_exporter": "python",
   "pygments_lexer": "ipython3",
   "version": "3.9.13"
  }
 },
 "nbformat": 4,
 "nbformat_minor": 5
}
