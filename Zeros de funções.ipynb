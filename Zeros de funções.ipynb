{
 "cells": [
  {
   "cell_type": "code",
   "execution_count": null,
   "id": "c154bc6d",
   "metadata": {},
   "outputs": [],
   "source": [
    "# 1.\n",
    "'''\n",
    "a) Incorreto, o método da bissecção não utiliza derivada e se baseia apenas na continuidade e no Teorema do Valor Intermediário.\n",
    "c) Incorreto, a condição para aplicar o método da bissecção é que f(a)*f(b) < 0.\n",
    "d) Incorreto, porém se trata de um método linear enquanto o de Newton em alguns casos há convergência quadrática.\n",
    "e) Incorreto, basta que a função seja contínua e f(a)*f(b)<0\n",
    "'''"
   ]
  },
  {
   "cell_type": "code",
   "execution_count": null,
   "id": "57317306",
   "metadata": {},
   "outputs": [],
   "source": [
    "# 2.\n",
    "'''\n",
    "02. Incorreto, a falsa posição pode ser mais rápida, mas nem sempre.\n",
    "16. Incorreto, o método do ponto fixo não garante convergência apenas com continuidade, a condição onde |g'(x)| < 1 é importante.\n",
    "'''"
   ]
  },
  {
   "cell_type": "code",
   "execution_count": null,
   "id": "c0a51ca0",
   "metadata": {},
   "outputs": [],
   "source": [
    "# 3.\n",
    "# a) Pode ser utilizada por garantir a convergência para a raiz"
   ]
  },
  {
   "cell_type": "code",
   "execution_count": null,
   "id": "d4072aaf",
   "metadata": {},
   "outputs": [],
   "source": [
    "# b)\n",
    "def f(T):\n",
    "    return 5 * T**4 - 400 * T - 8000\n",
    "\n",
    "def bisseccao(f, a, b, tol=0.01, max_iter=100):\n",
    "    if f(a) * f(b) >= 0:\n",
    "        raise ValueError(\"Não há mudança de sinal no intervalo. Tente outro intervalo.\")\n",
    "        \n",
    "    iteracoes = 0\n",
    "    while (b - a) / 2 > tol and iteracoes < max_iter:\n",
    "        c = (a + b) / 2\n",
    "        \n",
    "        # Checar se o valor de f(c) está suficientemente perto de zero\n",
    "        if abs(f(c)) < tol:\n",
    "            return c, iteracoes\n",
    "        \n",
    "        if f(a) * f(c) < 0:  # A raiz está entre a e c\n",
    "            b = c\n",
    "        else:  # A raiz está entre c e b\n",
    "            a = c\n",
    "        \n",
    "        iteracoes += 1\n",
    "        \n",
    "    # Retorna o valor aproximado da raiz\n",
    "    return (a + b) / 2, iteracoes\n",
    "\n",
    "raiz, n_iter = bisseccao(f, 5, 10)\n",
    "print(f\"Temperatura de equilíbrio aproximada: {raiz:.2f}\")\n",
    "print(f\"Número de iterações: {n_iter}\")\n"
   ]
  },
  {
   "cell_type": "code",
   "execution_count": null,
   "id": "c293f0b5",
   "metadata": {},
   "outputs": [],
   "source": [
    "# 4.\n",
    "'''\n",
    "a) Os métodos da falsa posição se baseia da interseção da falsa posição entre os pontos com o eixo x, diferente da bissecção que usa o ponto médio, a falsa posição usa uma estimativa baseada na vairação da função.\n",
    "b) c = b - f(b)*(b-a)/f(b)-f(a)\n",
    "c) O método da falsa posição pode ser menos eficiente quando a função é muito inclinada em um dos lados do intervalo, pois nesse caso um dos extremos pode ficar preso, levando a uma convergência lenta, diferente da bissecção que reduz o intervalo pela metade a cada passo.\n",
    "'''"
   ]
  },
  {
   "cell_type": "code",
   "execution_count": null,
   "id": "5a085daf",
   "metadata": {},
   "outputs": [],
   "source": [
    "# 5.\n",
    "# a)\n",
    "'''\n",
    "O método da secante não se faz uso de derivada enquanto o de Newton sim, mas de maneira similiar, também se trata de várias aproximações.\n",
    "'''"
   ]
  },
  {
   "cell_type": "code",
   "execution_count": null,
   "id": "ee2a6265",
   "metadata": {},
   "outputs": [],
   "source": [
    "# b)\n",
    "def metodo_secante(x0, x1, tol=1e-3, max_iter=5):\n",
    "    \"\"\"\n",
    "    Parâmetros:\n",
    "    x0, x1: aproximações iniciais\n",
    "    tol: tolerância (critério de parada)\n",
    "    max_iter: número máximo de iterações\n",
    "\n",
    "    Retorna:\n",
    "    Aproximação da raiz ou None se não convergir\n",
    "    \"\"\"\n",
    "\n",
    "    def f(x):\n",
    "        from numpy import cos\n",
    "        \n",
    "        return x*cos(x)-2*x**2+3\n",
    "\n",
    "    print(\"Iteração | x | f(x) | Erro\")\n",
    "    print(\"----------------------------------\")\n",
    "\n",
    "    for i in range(max_iter):\n",
    "        fx0 = f(x0)\n",
    "        fx1 = f(x1)\n",
    "\n",
    "        # Evitar divisão por zero\n",
    "        if abs(fx1 - fx0) < 1e-12:\n",
    "            print(\"\\nDiferença entre f(x) muito pequena. Método falhou.\")\n",
    "            return None\n",
    "\n",
    "        x2 = x1 - fx1 * (x1 - x0) / (fx1 - fx0)\n",
    "        erro = abs(x2 - x1)\n",
    "\n",
    "        print(f\"{i + 1:8} | {x2:.5f} | {f(x2):.5f} | {erro:.5f}\")\n",
    "\n",
    "        if erro < tol:\n",
    "            print(\"\\nConvergência alcançada!\")\n",
    "            return x2\n",
    "\n",
    "        x0, x1 = x1, x2\n",
    "\n",
    "    print(\"\\nMétodo não convergiu após\", max_iter, \"iterações.\")\n",
    "    return None\n",
    "\n",
    "\n",
    "# Encontrando ambas as raízes usando diferentes pontos iniciais\n",
    "print(\"=== Buscando a raiz positiva (x ≈ 2) ===\")\n",
    "raiz_positiva = metodo_secante(x0=0.5, x1=1.5)\n",
    "if raiz_positiva is not None:\n",
    "    print(f\"\\nRaiz positiva encontrada: {raiz_positiva:.6f}\")\n",
    "    print(f\"f({raiz_positiva:.6f}) = {raiz_positiva ** 2 + raiz_positiva - 6:.6f}\")\n",
    "\n",
    "#print(\"\\n=== Buscando a raiz negativa (x ≈ -3) ===\")\n",
    "#raiz_negativa = metodo_secante(x0=-4.0, x1=-2.0)\n",
    "#if raiz_negativa is not None:\n",
    "#    print(f\"\\nRaiz negativa encontrada: {raiz_negativa:.6f}\")\n",
    "#    print(f\"f({raiz_negativa:.6f}) = {raiz_negativa ** 2 + raiz_negativa - 6:.6f}\")\n"
   ]
  }
 ],
 "metadata": {
  "kernelspec": {
   "display_name": "Python 3 (ipykernel)",
   "language": "python",
   "name": "python3"
  },
  "language_info": {
   "codemirror_mode": {
    "name": "ipython",
    "version": 3
   },
   "file_extension": ".py",
   "mimetype": "text/x-python",
   "name": "python",
   "nbconvert_exporter": "python",
   "pygments_lexer": "ipython3",
   "version": "3.9.13"
  }
 },
 "nbformat": 4,
 "nbformat_minor": 5
}
